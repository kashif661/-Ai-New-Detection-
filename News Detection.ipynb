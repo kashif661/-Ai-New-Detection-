{
 "cells": [
  {
   "cell_type": "code",
   "execution_count": 1,
   "id": "e685974f",
   "metadata": {},
   "outputs": [
    {
     "data": {
      "text/html": [
       "<div>\n",
       "<style scoped>\n",
       "    .dataframe tbody tr th:only-of-type {\n",
       "        vertical-align: middle;\n",
       "    }\n",
       "\n",
       "    .dataframe tbody tr th {\n",
       "        vertical-align: top;\n",
       "    }\n",
       "\n",
       "    .dataframe thead th {\n",
       "        text-align: right;\n",
       "    }\n",
       "</style>\n",
       "<table border=\"1\" class=\"dataframe\">\n",
       "  <thead>\n",
       "    <tr style=\"text-align: right;\">\n",
       "      <th></th>\n",
       "      <th>URLs</th>\n",
       "      <th>Headline</th>\n",
       "      <th>Body</th>\n",
       "      <th>Label</th>\n",
       "    </tr>\n",
       "  </thead>\n",
       "  <tbody>\n",
       "    <tr>\n",
       "      <th>0</th>\n",
       "      <td>http://www.bbc.com/news/world-us-canada-414191...</td>\n",
       "      <td>Four ways Bob Corker skewered Donald Trump</td>\n",
       "      <td>Image copyright Getty Images\\nOn Sunday mornin...</td>\n",
       "      <td>1</td>\n",
       "    </tr>\n",
       "    <tr>\n",
       "      <th>1</th>\n",
       "      <td>https://www.reuters.com/article/us-filmfestiva...</td>\n",
       "      <td>Linklater's war veteran comedy speaks to moder...</td>\n",
       "      <td>LONDON (Reuters) - “Last Flag Flying”, a comed...</td>\n",
       "      <td>1</td>\n",
       "    </tr>\n",
       "    <tr>\n",
       "      <th>2</th>\n",
       "      <td>https://www.nytimes.com/2017/10/09/us/politics...</td>\n",
       "      <td>Trump’s Fight With Corker Jeopardizes His Legi...</td>\n",
       "      <td>The feud broke into public view last week when...</td>\n",
       "      <td>1</td>\n",
       "    </tr>\n",
       "    <tr>\n",
       "      <th>3</th>\n",
       "      <td>https://www.reuters.com/article/us-mexico-oil-...</td>\n",
       "      <td>Egypt's Cheiron wins tie-up with Pemex for Mex...</td>\n",
       "      <td>MEXICO CITY (Reuters) - Egypt’s Cheiron Holdin...</td>\n",
       "      <td>1</td>\n",
       "    </tr>\n",
       "    <tr>\n",
       "      <th>4</th>\n",
       "      <td>http://www.cnn.com/videos/cnnmoney/2017/10/08/...</td>\n",
       "      <td>Jason Aldean opens 'SNL' with Vegas tribute</td>\n",
       "      <td>Country singer Jason Aldean, who was performin...</td>\n",
       "      <td>1</td>\n",
       "    </tr>\n",
       "  </tbody>\n",
       "</table>\n",
       "</div>"
      ],
      "text/plain": [
       "                                                URLs  \\\n",
       "0  http://www.bbc.com/news/world-us-canada-414191...   \n",
       "1  https://www.reuters.com/article/us-filmfestiva...   \n",
       "2  https://www.nytimes.com/2017/10/09/us/politics...   \n",
       "3  https://www.reuters.com/article/us-mexico-oil-...   \n",
       "4  http://www.cnn.com/videos/cnnmoney/2017/10/08/...   \n",
       "\n",
       "                                            Headline  \\\n",
       "0         Four ways Bob Corker skewered Donald Trump   \n",
       "1  Linklater's war veteran comedy speaks to moder...   \n",
       "2  Trump’s Fight With Corker Jeopardizes His Legi...   \n",
       "3  Egypt's Cheiron wins tie-up with Pemex for Mex...   \n",
       "4        Jason Aldean opens 'SNL' with Vegas tribute   \n",
       "\n",
       "                                                Body  Label  \n",
       "0  Image copyright Getty Images\\nOn Sunday mornin...      1  \n",
       "1  LONDON (Reuters) - “Last Flag Flying”, a comed...      1  \n",
       "2  The feud broke into public view last week when...      1  \n",
       "3  MEXICO CITY (Reuters) - Egypt’s Cheiron Holdin...      1  \n",
       "4  Country singer Jason Aldean, who was performin...      1  "
      ]
     },
     "execution_count": 1,
     "metadata": {},
     "output_type": "execute_result"
    }
   ],
   "source": [
    "import pandas as pd\n",
    "\n",
    "data = pd.read_csv(\"C:/Users/hp/Downloads/Data/data.csv\")\n",
    "data.head()"
   ]
  },
  {
   "cell_type": "code",
   "execution_count": 2,
   "id": "49036759",
   "metadata": {},
   "outputs": [
    {
     "data": {
      "text/html": [
       "<div>\n",
       "<style scoped>\n",
       "    .dataframe tbody tr th:only-of-type {\n",
       "        vertical-align: middle;\n",
       "    }\n",
       "\n",
       "    .dataframe tbody tr th {\n",
       "        vertical-align: top;\n",
       "    }\n",
       "\n",
       "    .dataframe thead th {\n",
       "        text-align: right;\n",
       "    }\n",
       "</style>\n",
       "<table border=\"1\" class=\"dataframe\">\n",
       "  <thead>\n",
       "    <tr style=\"text-align: right;\">\n",
       "      <th></th>\n",
       "      <th>Body</th>\n",
       "      <th>Label</th>\n",
       "    </tr>\n",
       "  </thead>\n",
       "  <tbody>\n",
       "    <tr>\n",
       "      <th>0</th>\n",
       "      <td>Image copyright Getty Images\\nOn Sunday mornin...</td>\n",
       "      <td>1</td>\n",
       "    </tr>\n",
       "    <tr>\n",
       "      <th>1</th>\n",
       "      <td>LONDON (Reuters) - “Last Flag Flying”, a comed...</td>\n",
       "      <td>1</td>\n",
       "    </tr>\n",
       "    <tr>\n",
       "      <th>2</th>\n",
       "      <td>The feud broke into public view last week when...</td>\n",
       "      <td>1</td>\n",
       "    </tr>\n",
       "    <tr>\n",
       "      <th>3</th>\n",
       "      <td>MEXICO CITY (Reuters) - Egypt’s Cheiron Holdin...</td>\n",
       "      <td>1</td>\n",
       "    </tr>\n",
       "    <tr>\n",
       "      <th>4</th>\n",
       "      <td>Country singer Jason Aldean, who was performin...</td>\n",
       "      <td>1</td>\n",
       "    </tr>\n",
       "    <tr>\n",
       "      <th>5</th>\n",
       "      <td>JetNation FanDuel League; Week 4\\n% of readers...</td>\n",
       "      <td>0</td>\n",
       "    </tr>\n",
       "    <tr>\n",
       "      <th>6</th>\n",
       "      <td>In 2012, Kansas lawmakers, led by Gov. Sam Bro...</td>\n",
       "      <td>1</td>\n",
       "    </tr>\n",
       "    <tr>\n",
       "      <th>7</th>\n",
       "      <td>The Reserve Bank of India (RBI) Governor Urjit...</td>\n",
       "      <td>1</td>\n",
       "    </tr>\n",
       "    <tr>\n",
       "      <th>8</th>\n",
       "      <td>Scott Pruitt, Administrator of the U.S. Enviro...</td>\n",
       "      <td>1</td>\n",
       "    </tr>\n",
       "    <tr>\n",
       "      <th>9</th>\n",
       "      <td>FILE PHOTO - An Air Berlin sign is seen at an ...</td>\n",
       "      <td>1</td>\n",
       "    </tr>\n",
       "    <tr>\n",
       "      <th>10</th>\n",
       "      <td>By Aaron Kesel\\nAs former White House chief of...</td>\n",
       "      <td>0</td>\n",
       "    </tr>\n",
       "    <tr>\n",
       "      <th>11</th>\n",
       "      <td>2017 Fantasy Football Team Defense Rankings – ...</td>\n",
       "      <td>0</td>\n",
       "    </tr>\n",
       "    <tr>\n",
       "      <th>12</th>\n",
       "      <td>Just Shut Up &amp; Play Some Damn Baseball!!\\n(Bef...</td>\n",
       "      <td>0</td>\n",
       "    </tr>\n",
       "    <tr>\n",
       "      <th>13</th>\n",
       "      <td>FILE PHOTO: The Deloitte Company logo is seen ...</td>\n",
       "      <td>1</td>\n",
       "    </tr>\n",
       "    <tr>\n",
       "      <th>14</th>\n",
       "      <td>A Potato Battery Can Light up a Room for Over ...</td>\n",
       "      <td>0</td>\n",
       "    </tr>\n",
       "    <tr>\n",
       "      <th>15</th>\n",
       "      <td>• The authorities found evidence that the gunm...</td>\n",
       "      <td>1</td>\n",
       "    </tr>\n",
       "    <tr>\n",
       "      <th>16</th>\n",
       "      <td>The statement, which was read by her lawyer, M...</td>\n",
       "      <td>1</td>\n",
       "    </tr>\n",
       "    <tr>\n",
       "      <th>17</th>\n",
       "      <td>In bold documentary style, Retro Report looks ...</td>\n",
       "      <td>1</td>\n",
       "    </tr>\n",
       "    <tr>\n",
       "      <th>18</th>\n",
       "      <td>Red Flag Warning: These California Wildfires A...</td>\n",
       "      <td>0</td>\n",
       "    </tr>\n",
       "    <tr>\n",
       "      <th>19</th>\n",
       "      <td>In Meeting With Military, Trump Talks Of 'Calm...</td>\n",
       "      <td>0</td>\n",
       "    </tr>\n",
       "  </tbody>\n",
       "</table>\n",
       "</div>"
      ],
      "text/plain": [
       "                                                 Body  Label\n",
       "0   Image copyright Getty Images\\nOn Sunday mornin...      1\n",
       "1   LONDON (Reuters) - “Last Flag Flying”, a comed...      1\n",
       "2   The feud broke into public view last week when...      1\n",
       "3   MEXICO CITY (Reuters) - Egypt’s Cheiron Holdin...      1\n",
       "4   Country singer Jason Aldean, who was performin...      1\n",
       "5   JetNation FanDuel League; Week 4\\n% of readers...      0\n",
       "6   In 2012, Kansas lawmakers, led by Gov. Sam Bro...      1\n",
       "7   The Reserve Bank of India (RBI) Governor Urjit...      1\n",
       "8   Scott Pruitt, Administrator of the U.S. Enviro...      1\n",
       "9   FILE PHOTO - An Air Berlin sign is seen at an ...      1\n",
       "10  By Aaron Kesel\\nAs former White House chief of...      0\n",
       "11  2017 Fantasy Football Team Defense Rankings – ...      0\n",
       "12  Just Shut Up & Play Some Damn Baseball!!\\n(Bef...      0\n",
       "13  FILE PHOTO: The Deloitte Company logo is seen ...      1\n",
       "14  A Potato Battery Can Light up a Room for Over ...      0\n",
       "15  • The authorities found evidence that the gunm...      1\n",
       "16  The statement, which was read by her lawyer, M...      1\n",
       "17  In bold documentary style, Retro Report looks ...      1\n",
       "18  Red Flag Warning: These California Wildfires A...      0\n",
       "19  In Meeting With Military, Trump Talks Of 'Calm...      0"
      ]
     },
     "execution_count": 2,
     "metadata": {},
     "output_type": "execute_result"
    }
   ],
   "source": [
    "columns_to_drop = ['Headline', 'URLs']\n",
    "data = data.drop(columns=columns_to_drop)\n",
    "data.head(20)"
   ]
  },
  {
   "cell_type": "code",
   "execution_count": 3,
   "id": "c9d88c5d",
   "metadata": {},
   "outputs": [
    {
     "data": {
      "text/plain": [
       "Label\n",
       "0    2137\n",
       "1    1872\n",
       "Name: count, dtype: int64"
      ]
     },
     "execution_count": 3,
     "metadata": {},
     "output_type": "execute_result"
    }
   ],
   "source": [
    "data.Label.value_counts()"
   ]
  },
  {
   "cell_type": "code",
   "execution_count": 4,
   "id": "99e16e15",
   "metadata": {},
   "outputs": [],
   "source": [
    "data.dropna(subset=['Body'], inplace=True)"
   ]
  },
  {
   "cell_type": "code",
   "execution_count": 5,
   "id": "b98a93ea",
   "metadata": {},
   "outputs": [
    {
     "data": {
      "text/html": [
       "<div>\n",
       "<style scoped>\n",
       "    .dataframe tbody tr th:only-of-type {\n",
       "        vertical-align: middle;\n",
       "    }\n",
       "\n",
       "    .dataframe tbody tr th {\n",
       "        vertical-align: top;\n",
       "    }\n",
       "\n",
       "    .dataframe thead th {\n",
       "        text-align: right;\n",
       "    }\n",
       "</style>\n",
       "<table border=\"1\" class=\"dataframe\">\n",
       "  <thead>\n",
       "    <tr style=\"text-align: right;\">\n",
       "      <th></th>\n",
       "      <th>Body</th>\n",
       "      <th>Label</th>\n",
       "    </tr>\n",
       "  </thead>\n",
       "  <tbody>\n",
       "    <tr>\n",
       "      <th>0</th>\n",
       "      <td>False</td>\n",
       "      <td>False</td>\n",
       "    </tr>\n",
       "    <tr>\n",
       "      <th>1</th>\n",
       "      <td>False</td>\n",
       "      <td>False</td>\n",
       "    </tr>\n",
       "    <tr>\n",
       "      <th>2</th>\n",
       "      <td>False</td>\n",
       "      <td>False</td>\n",
       "    </tr>\n",
       "    <tr>\n",
       "      <th>3</th>\n",
       "      <td>False</td>\n",
       "      <td>False</td>\n",
       "    </tr>\n",
       "    <tr>\n",
       "      <th>4</th>\n",
       "      <td>False</td>\n",
       "      <td>False</td>\n",
       "    </tr>\n",
       "    <tr>\n",
       "      <th>...</th>\n",
       "      <td>...</td>\n",
       "      <td>...</td>\n",
       "    </tr>\n",
       "    <tr>\n",
       "      <th>4003</th>\n",
       "      <td>False</td>\n",
       "      <td>False</td>\n",
       "    </tr>\n",
       "    <tr>\n",
       "      <th>4004</th>\n",
       "      <td>False</td>\n",
       "      <td>False</td>\n",
       "    </tr>\n",
       "    <tr>\n",
       "      <th>4005</th>\n",
       "      <td>False</td>\n",
       "      <td>False</td>\n",
       "    </tr>\n",
       "    <tr>\n",
       "      <th>4007</th>\n",
       "      <td>False</td>\n",
       "      <td>False</td>\n",
       "    </tr>\n",
       "    <tr>\n",
       "      <th>4008</th>\n",
       "      <td>False</td>\n",
       "      <td>False</td>\n",
       "    </tr>\n",
       "  </tbody>\n",
       "</table>\n",
       "<p>3988 rows × 2 columns</p>\n",
       "</div>"
      ],
      "text/plain": [
       "       Body  Label\n",
       "0     False  False\n",
       "1     False  False\n",
       "2     False  False\n",
       "3     False  False\n",
       "4     False  False\n",
       "...     ...    ...\n",
       "4003  False  False\n",
       "4004  False  False\n",
       "4005  False  False\n",
       "4007  False  False\n",
       "4008  False  False\n",
       "\n",
       "[3988 rows x 2 columns]"
      ]
     },
     "execution_count": 5,
     "metadata": {},
     "output_type": "execute_result"
    }
   ],
   "source": [
    "data.isnull()"
   ]
  },
  {
   "cell_type": "code",
   "execution_count": 6,
   "id": "653f97fa",
   "metadata": {},
   "outputs": [
    {
     "data": {
      "text/html": [
       "<div>\n",
       "<style scoped>\n",
       "    .dataframe tbody tr th:only-of-type {\n",
       "        vertical-align: middle;\n",
       "    }\n",
       "\n",
       "    .dataframe tbody tr th {\n",
       "        vertical-align: top;\n",
       "    }\n",
       "\n",
       "    .dataframe thead th {\n",
       "        text-align: right;\n",
       "    }\n",
       "</style>\n",
       "<table border=\"1\" class=\"dataframe\">\n",
       "  <thead>\n",
       "    <tr style=\"text-align: right;\">\n",
       "      <th></th>\n",
       "      <th>Body</th>\n",
       "      <th>Label</th>\n",
       "      <th>Labels</th>\n",
       "    </tr>\n",
       "  </thead>\n",
       "  <tbody>\n",
       "    <tr>\n",
       "      <th>0</th>\n",
       "      <td>Image copyright Getty Images\\nOn Sunday mornin...</td>\n",
       "      <td>1</td>\n",
       "      <td>Real</td>\n",
       "    </tr>\n",
       "    <tr>\n",
       "      <th>1</th>\n",
       "      <td>LONDON (Reuters) - “Last Flag Flying”, a comed...</td>\n",
       "      <td>1</td>\n",
       "      <td>Real</td>\n",
       "    </tr>\n",
       "    <tr>\n",
       "      <th>2</th>\n",
       "      <td>The feud broke into public view last week when...</td>\n",
       "      <td>1</td>\n",
       "      <td>Real</td>\n",
       "    </tr>\n",
       "    <tr>\n",
       "      <th>3</th>\n",
       "      <td>MEXICO CITY (Reuters) - Egypt’s Cheiron Holdin...</td>\n",
       "      <td>1</td>\n",
       "      <td>Real</td>\n",
       "    </tr>\n",
       "    <tr>\n",
       "      <th>4</th>\n",
       "      <td>Country singer Jason Aldean, who was performin...</td>\n",
       "      <td>1</td>\n",
       "      <td>Real</td>\n",
       "    </tr>\n",
       "    <tr>\n",
       "      <th>5</th>\n",
       "      <td>JetNation FanDuel League; Week 4\\n% of readers...</td>\n",
       "      <td>0</td>\n",
       "      <td>Fake</td>\n",
       "    </tr>\n",
       "  </tbody>\n",
       "</table>\n",
       "</div>"
      ],
      "text/plain": [
       "                                                Body  Label Labels\n",
       "0  Image copyright Getty Images\\nOn Sunday mornin...      1   Real\n",
       "1  LONDON (Reuters) - “Last Flag Flying”, a comed...      1   Real\n",
       "2  The feud broke into public view last week when...      1   Real\n",
       "3  MEXICO CITY (Reuters) - Egypt’s Cheiron Holdin...      1   Real\n",
       "4  Country singer Jason Aldean, who was performin...      1   Real\n",
       "5  JetNation FanDuel League; Week 4\\n% of readers...      0   Fake"
      ]
     },
     "execution_count": 6,
     "metadata": {},
     "output_type": "execute_result"
    }
   ],
   "source": [
    "data['Labels'] = data['Label'].map({1: 'Real', 0: 'Fake'})\n",
    "data[0:6]"
   ]
  },
  {
   "cell_type": "code",
   "execution_count": 31,
   "id": "e9764be7",
   "metadata": {},
   "outputs": [
    {
     "data": {
      "text/plain": [
       "\"Just Shut Up & Play Some Damn Baseball!!\\n(Before It's News)\\nLook, plain and simple I am over this “Take a knee” bullshit in my opinion.\\nKyle Terada-USA TODAY Sports\\nI’m not writing to debate with anyone on this. Everyone has a right to their own opinion and to protest….I get it. But I also have a right to turn on my television and watch America’s favorite pastime without the extra added political crap. It’s September and there are seven regular season games left so we have enough drama as it is. I like the drama involved in a heart racing, nail biting game between two good teams. It’s a beautiful game and an escape from reality (especially NOW) so can’t we just leave it at that?\\nBaseball is my first passion, football is my second. Well, it was….it was the one other sport I really enjoyed when baseball was over. I have been a fan of a poor football team for years and stood by them but at this point it’s too much political mumbo jumbo for me to actually watch a game. Suddenly football became the drama filled gossip girls crowd I worked so hard to avoid in High School. I respect your opinion whatever it may be but I want to see you PLAY THE GAME and hear about all of the news that comes form that…..not from you “taking a knee” and causing Americans everywhere to debate about whether it is right or wrong.\\nThat is why I stopped watching. Colin Kaepernick started drama, is now UNEMPLOYED and I no longer watch football.\\nRick Osentoski-USA TODAY Sports\\nAnd now suddenly the “take a knee” fiasco finally made it into my baseball world and I admit it annoys me! Congratulations rookie kid I couldn’t care less about Bruce Maxwell of the Oakland A’s. You “took a knee” and sent a message. You are incredibly young and have much to learn in life and in baseball. You’ve had your 15 minutes of fame and brought a bunch of drama into the game I love. Now who is next? Because it is coming. The newbie opened up the flood gates.\\nSo now that it’s out there and instead of the news main focus being about the Yankees blowing two games against the Jays and likely the division….we have to read Joe Girardi,Yankees players have no plans to protest national anthem. Really? I want to start a new movement here. There’s a cliche that says politics and religion do not belong at the dinner table. How about political protests do not belong at a baseball game?\\nPhoto: NJ.com\\nClearly Aaron Judge gets it. I’m sure he has a very strong opinion on this too as most of us do but at least when he was asked about it he said “You know, I’m a baseball player. My job is to focus on playing baseball right now.” It is, so thank you Judge. Even CC Sabathia had an opinion on it and he made that pretty clear on Saturday but he said his peace and left it at that. So when Sunday came around he didn’t want to revisit it and said “I don’t want to talk about that. Go to somebody else’s locker and talk about protests. Why do you have to come to me? There are 40 other guys in there” read that HERE.\\nWe have one week left in the regular season. Maxwell said his decision “had been coming for a long time” and referenced what happened in Charlottesville. He’s had a while to sit and stew on that and just now decides to join the movement and “take a knee” right at the end of the season. I don’t look at that and find that to be “brave” or admirable at all.\\nThere are a lot of issues in our country right now, and I am not ignoring that. We saw how high emotions ran last year in football and now it’s come into baseball. Nothing has changed for the better here, so why bring it on the field?\\nI just want to watch some baseball, Maxwell! I didn’t know who you were before this. I know enough about you now, but it doesn’t make me want to learn anymore.\\nJust play ball! There’s not a lot of it left…\\n–Jeana Bellezza\\nBYB Managing Editor\\nFollow me on Twitter: @NYPrincess J\\nSource: http://bleedingyankeeblue.blogspot.com/2017/09/just-shut-up-play-some-damn-baseball.html\""
      ]
     },
     "execution_count": 31,
     "metadata": {},
     "output_type": "execute_result"
    }
   ],
   "source": [
    "data['Body'][12]"
   ]
  },
  {
   "cell_type": "code",
   "execution_count": 8,
   "id": "857ba82b",
   "metadata": {},
   "outputs": [
    {
     "data": {
      "text/html": [
       "<div>\n",
       "<style scoped>\n",
       "    .dataframe tbody tr th:only-of-type {\n",
       "        vertical-align: middle;\n",
       "    }\n",
       "\n",
       "    .dataframe tbody tr th {\n",
       "        vertical-align: top;\n",
       "    }\n",
       "\n",
       "    .dataframe thead th {\n",
       "        text-align: right;\n",
       "    }\n",
       "</style>\n",
       "<table border=\"1\" class=\"dataframe\">\n",
       "  <thead>\n",
       "    <tr style=\"text-align: right;\">\n",
       "      <th></th>\n",
       "      <th>Body</th>\n",
       "      <th>Labels</th>\n",
       "    </tr>\n",
       "  </thead>\n",
       "  <tbody>\n",
       "    <tr>\n",
       "      <th>0</th>\n",
       "      <td>Image copyright Getty Images\\nOn Sunday mornin...</td>\n",
       "      <td>Real</td>\n",
       "    </tr>\n",
       "    <tr>\n",
       "      <th>1</th>\n",
       "      <td>LONDON (Reuters) - “Last Flag Flying”, a comed...</td>\n",
       "      <td>Real</td>\n",
       "    </tr>\n",
       "  </tbody>\n",
       "</table>\n",
       "</div>"
      ],
      "text/plain": [
       "                                                Body Labels\n",
       "0  Image copyright Getty Images\\nOn Sunday mornin...   Real\n",
       "1  LONDON (Reuters) - “Last Flag Flying”, a comed...   Real"
      ]
     },
     "execution_count": 8,
     "metadata": {},
     "output_type": "execute_result"
    }
   ],
   "source": [
    "columns_to_drop = ['Label']\n",
    "data = data.drop(columns=columns_to_drop)\n",
    "data[0:2]"
   ]
  },
  {
   "cell_type": "code",
   "execution_count": 9,
   "id": "3da812f1",
   "metadata": {},
   "outputs": [
    {
     "data": {
      "text/html": [
       "<div>\n",
       "<style scoped>\n",
       "    .dataframe tbody tr th:only-of-type {\n",
       "        vertical-align: middle;\n",
       "    }\n",
       "\n",
       "    .dataframe tbody tr th {\n",
       "        vertical-align: top;\n",
       "    }\n",
       "\n",
       "    .dataframe thead th {\n",
       "        text-align: right;\n",
       "    }\n",
       "</style>\n",
       "<table border=\"1\" class=\"dataframe\">\n",
       "  <thead>\n",
       "    <tr style=\"text-align: right;\">\n",
       "      <th></th>\n",
       "      <th>Body</th>\n",
       "      <th>Labels</th>\n",
       "    </tr>\n",
       "  </thead>\n",
       "  <tbody>\n",
       "    <tr>\n",
       "      <th>0</th>\n",
       "      <td>Image copyright Getty Images\\nOn Sunday mornin...</td>\n",
       "      <td>__label__Real</td>\n",
       "    </tr>\n",
       "    <tr>\n",
       "      <th>1</th>\n",
       "      <td>LONDON (Reuters) - “Last Flag Flying”, a comed...</td>\n",
       "      <td>__label__Real</td>\n",
       "    </tr>\n",
       "    <tr>\n",
       "      <th>2</th>\n",
       "      <td>The feud broke into public view last week when...</td>\n",
       "      <td>__label__Real</td>\n",
       "    </tr>\n",
       "    <tr>\n",
       "      <th>3</th>\n",
       "      <td>MEXICO CITY (Reuters) - Egypt’s Cheiron Holdin...</td>\n",
       "      <td>__label__Real</td>\n",
       "    </tr>\n",
       "    <tr>\n",
       "      <th>4</th>\n",
       "      <td>Country singer Jason Aldean, who was performin...</td>\n",
       "      <td>__label__Real</td>\n",
       "    </tr>\n",
       "  </tbody>\n",
       "</table>\n",
       "</div>"
      ],
      "text/plain": [
       "                                                Body         Labels\n",
       "0  Image copyright Getty Images\\nOn Sunday mornin...  __label__Real\n",
       "1  LONDON (Reuters) - “Last Flag Flying”, a comed...  __label__Real\n",
       "2  The feud broke into public view last week when...  __label__Real\n",
       "3  MEXICO CITY (Reuters) - Egypt’s Cheiron Holdin...  __label__Real\n",
       "4  Country singer Jason Aldean, who was performin...  __label__Real"
      ]
     },
     "execution_count": 9,
     "metadata": {},
     "output_type": "execute_result"
    }
   ],
   "source": [
    "data['Labels'] = \"__label__\" + data['Labels'].astype(str)\n",
    "data.head(5)"
   ]
  },
  {
   "cell_type": "code",
   "execution_count": 35,
   "id": "c38d9463",
   "metadata": {},
   "outputs": [
    {
     "data": {
      "text/html": [
       "<div>\n",
       "<style scoped>\n",
       "    .dataframe tbody tr th:only-of-type {\n",
       "        vertical-align: middle;\n",
       "    }\n",
       "\n",
       "    .dataframe tbody tr th {\n",
       "        vertical-align: top;\n",
       "    }\n",
       "\n",
       "    .dataframe thead th {\n",
       "        text-align: right;\n",
       "    }\n",
       "</style>\n",
       "<table border=\"1\" class=\"dataframe\">\n",
       "  <thead>\n",
       "    <tr style=\"text-align: right;\">\n",
       "      <th></th>\n",
       "      <th>Body</th>\n",
       "      <th>Labels</th>\n",
       "      <th>Labels_Body</th>\n",
       "    </tr>\n",
       "  </thead>\n",
       "  <tbody>\n",
       "    <tr>\n",
       "      <th>0</th>\n",
       "      <td>Image copyright Getty Images\\nOn Sunday mornin...</td>\n",
       "      <td>__label__Real</td>\n",
       "      <td>__label__Real Image copyright Getty Images\\nOn...</td>\n",
       "    </tr>\n",
       "    <tr>\n",
       "      <th>1</th>\n",
       "      <td>LONDON (Reuters) - “Last Flag Flying”, a comed...</td>\n",
       "      <td>__label__Real</td>\n",
       "      <td>__label__Real LONDON (Reuters) - “Last Flag Fl...</td>\n",
       "    </tr>\n",
       "    <tr>\n",
       "      <th>2</th>\n",
       "      <td>The feud broke into public view last week when...</td>\n",
       "      <td>__label__Real</td>\n",
       "      <td>__label__Real The feud broke into public view ...</td>\n",
       "    </tr>\n",
       "    <tr>\n",
       "      <th>3</th>\n",
       "      <td>MEXICO CITY (Reuters) - Egypt’s Cheiron Holdin...</td>\n",
       "      <td>__label__Real</td>\n",
       "      <td>__label__Real MEXICO CITY (Reuters) - Egypt’s ...</td>\n",
       "    </tr>\n",
       "    <tr>\n",
       "      <th>4</th>\n",
       "      <td>Country singer Jason Aldean, who was performin...</td>\n",
       "      <td>__label__Real</td>\n",
       "      <td>__label__Real Country singer Jason Aldean, who...</td>\n",
       "    </tr>\n",
       "    <tr>\n",
       "      <th>5</th>\n",
       "      <td>JetNation FanDuel League; Week 4\\n% of readers...</td>\n",
       "      <td>__label__Fake</td>\n",
       "      <td>__label__Fake JetNation FanDuel League; Week 4...</td>\n",
       "    </tr>\n",
       "    <tr>\n",
       "      <th>6</th>\n",
       "      <td>In 2012, Kansas lawmakers, led by Gov. Sam Bro...</td>\n",
       "      <td>__label__Real</td>\n",
       "      <td>__label__Real In 2012, Kansas lawmakers, led b...</td>\n",
       "    </tr>\n",
       "    <tr>\n",
       "      <th>7</th>\n",
       "      <td>The Reserve Bank of India (RBI) Governor Urjit...</td>\n",
       "      <td>__label__Real</td>\n",
       "      <td>__label__Real The Reserve Bank of India (RBI) ...</td>\n",
       "    </tr>\n",
       "    <tr>\n",
       "      <th>8</th>\n",
       "      <td>Scott Pruitt, Administrator of the U.S. Enviro...</td>\n",
       "      <td>__label__Real</td>\n",
       "      <td>__label__Real Scott Pruitt, Administrator of t...</td>\n",
       "    </tr>\n",
       "    <tr>\n",
       "      <th>9</th>\n",
       "      <td>FILE PHOTO - An Air Berlin sign is seen at an ...</td>\n",
       "      <td>__label__Real</td>\n",
       "      <td>__label__Real FILE PHOTO - An Air Berlin sign ...</td>\n",
       "    </tr>\n",
       "  </tbody>\n",
       "</table>\n",
       "</div>"
      ],
      "text/plain": [
       "                                                Body         Labels  \\\n",
       "0  Image copyright Getty Images\\nOn Sunday mornin...  __label__Real   \n",
       "1  LONDON (Reuters) - “Last Flag Flying”, a comed...  __label__Real   \n",
       "2  The feud broke into public view last week when...  __label__Real   \n",
       "3  MEXICO CITY (Reuters) - Egypt’s Cheiron Holdin...  __label__Real   \n",
       "4  Country singer Jason Aldean, who was performin...  __label__Real   \n",
       "5  JetNation FanDuel League; Week 4\\n% of readers...  __label__Fake   \n",
       "6  In 2012, Kansas lawmakers, led by Gov. Sam Bro...  __label__Real   \n",
       "7  The Reserve Bank of India (RBI) Governor Urjit...  __label__Real   \n",
       "8  Scott Pruitt, Administrator of the U.S. Enviro...  __label__Real   \n",
       "9  FILE PHOTO - An Air Berlin sign is seen at an ...  __label__Real   \n",
       "\n",
       "                                         Labels_Body  \n",
       "0  __label__Real Image copyright Getty Images\\nOn...  \n",
       "1  __label__Real LONDON (Reuters) - “Last Flag Fl...  \n",
       "2  __label__Real The feud broke into public view ...  \n",
       "3  __label__Real MEXICO CITY (Reuters) - Egypt’s ...  \n",
       "4  __label__Real Country singer Jason Aldean, who...  \n",
       "5  __label__Fake JetNation FanDuel League; Week 4...  \n",
       "6  __label__Real In 2012, Kansas lawmakers, led b...  \n",
       "7  __label__Real The Reserve Bank of India (RBI) ...  \n",
       "8  __label__Real Scott Pruitt, Administrator of t...  \n",
       "9  __label__Real FILE PHOTO - An Air Berlin sign ...  "
      ]
     },
     "execution_count": 35,
     "metadata": {},
     "output_type": "execute_result"
    }
   ],
   "source": [
    "data['Labels_Body'] = data['Labels'] +\" \"+ data['Body']\n",
    "data.head(10)"
   ]
  },
  {
   "cell_type": "code",
   "execution_count": 36,
   "id": "0ed20897",
   "metadata": {},
   "outputs": [
    {
     "data": {
      "text/plain": [
       "'__label__Real The Reserve Bank of India (RBI) Governor Urjit Patel attends a news conference after the bi-monthly monetary policy review in Mumbai, India, October 4, 2017. REUTERS/Shailesh Andrade\\nMUMBAI (Reuters) - Fostering monetary conditions conducive to economic growth were a constant consideration for Indian policymakers, but would not take priority over achieving the central bank’s inflation target, Governor Urjit Patel told a newspaper on Monday.\\nPatel told the Mint newspaper that the economy was recovering, after growth slowed to a three-year low of 5.7 percent in the April-June quarter.\\nThe slowdown had sparked some calls for lower interest rates, but with inflation rising the RBI left rates unchanged at a review by the monetary policy committee (MPC) last week.\\n“Growth is always there in the MPC’s scheme of things; we don’t lose sight of that, but not at the cost of inflation,” Patel was quoted as saying in the interview.\\n“However, we have to be careful — we should aim at achieving the inflation target without losing sight of supporting economic growth.”\\nConsumer inflation accelerated to 3.36 percent in August. India’s central bank has a medium-term target for annual inflation of 4 percent with the flexibility of plus/minus 2 percent on either side to make room for food price volatility.\\nThe (MPC) will strive to achieve its 4 percent inflation target on a “durable basis”, Patel said.\\nLast week, the RBI kept its repo rate unchanged at 6.00 percent as expected last week, and raised inflation projections, cooling hopes for future rate cuts.\\nHowever, Patel said growth was already starting to recover. The RBI last week cut its projection for gross value added - an indicator of growth it prefers to 6.7 percent from 7.3 percent for the year ending in March - higher than some analyst forecasts.\\n“Our projections based on high frequency real economy indicators suggest that growth will pick up in the third and fourth quarters (of the current fiscal year) to above 7 percent,” he told Mint.\\n“We have started seeing the upturn.”\\nPatel has given only a handful of interviews since taking over as RBI Governor late last year.\\nFor the full Mint interview, see: (bit.ly/2yytqPn)\\nReporting by Suvashree Dey Choudhury'"
      ]
     },
     "execution_count": 36,
     "metadata": {},
     "output_type": "execute_result"
    }
   ],
   "source": [
    "data['Labels_Body'][7]"
   ]
  },
  {
   "cell_type": "code",
   "execution_count": 12,
   "id": "780caf2b",
   "metadata": {},
   "outputs": [],
   "source": [
    "import re\n",
    "\n",
    "def Preprocess(text):\n",
    "    text = re.sub(r'[^\\w\\s]','',text)\n",
    "    text = re.sub(r' +', ' ', text)\n",
    "    return text.strip().lower()"
   ]
  },
  {
   "cell_type": "code",
   "execution_count": 13,
   "id": "3ad6832e",
   "metadata": {},
   "outputs": [
    {
     "data": {
      "text/plain": [
       "'this in itself isnt exactly huge news its far from the first time the president'"
      ]
     },
     "execution_count": 13,
     "metadata": {},
     "output_type": "execute_result"
    }
   ],
   "source": [
    "Preprocess(\".\\nThis, in itself, isn\\'t exactly huge news. It\\'s far from the first time the president\")"
   ]
  },
  {
   "cell_type": "code",
   "execution_count": 14,
   "id": "6b0b21c6",
   "metadata": {},
   "outputs": [],
   "source": [
    "data['Labels_Body'] = data['Labels_Body'].map(Preprocess)"
   ]
  },
  {
   "cell_type": "code",
   "execution_count": 15,
   "id": "e663b44c",
   "metadata": {},
   "outputs": [
    {
     "data": {
      "text/html": [
       "<div>\n",
       "<style scoped>\n",
       "    .dataframe tbody tr th:only-of-type {\n",
       "        vertical-align: middle;\n",
       "    }\n",
       "\n",
       "    .dataframe tbody tr th {\n",
       "        vertical-align: top;\n",
       "    }\n",
       "\n",
       "    .dataframe thead th {\n",
       "        text-align: right;\n",
       "    }\n",
       "</style>\n",
       "<table border=\"1\" class=\"dataframe\">\n",
       "  <thead>\n",
       "    <tr style=\"text-align: right;\">\n",
       "      <th></th>\n",
       "      <th>Body</th>\n",
       "      <th>Labels</th>\n",
       "      <th>Labels_Body</th>\n",
       "    </tr>\n",
       "  </thead>\n",
       "  <tbody>\n",
       "    <tr>\n",
       "      <th>0</th>\n",
       "      <td>Image copyright Getty Images\\nOn Sunday mornin...</td>\n",
       "      <td>__label__Real</td>\n",
       "      <td>__label__real image copyright getty images\\non...</td>\n",
       "    </tr>\n",
       "    <tr>\n",
       "      <th>1</th>\n",
       "      <td>LONDON (Reuters) - “Last Flag Flying”, a comed...</td>\n",
       "      <td>__label__Real</td>\n",
       "      <td>__label__real london reuters last flag flying ...</td>\n",
       "    </tr>\n",
       "    <tr>\n",
       "      <th>2</th>\n",
       "      <td>The feud broke into public view last week when...</td>\n",
       "      <td>__label__Real</td>\n",
       "      <td>__label__real the feud broke into public view ...</td>\n",
       "    </tr>\n",
       "    <tr>\n",
       "      <th>3</th>\n",
       "      <td>MEXICO CITY (Reuters) - Egypt’s Cheiron Holdin...</td>\n",
       "      <td>__label__Real</td>\n",
       "      <td>__label__real mexico city reuters egypts cheir...</td>\n",
       "    </tr>\n",
       "    <tr>\n",
       "      <th>4</th>\n",
       "      <td>Country singer Jason Aldean, who was performin...</td>\n",
       "      <td>__label__Real</td>\n",
       "      <td>__label__real country singer jason aldean who ...</td>\n",
       "    </tr>\n",
       "  </tbody>\n",
       "</table>\n",
       "</div>"
      ],
      "text/plain": [
       "                                                Body         Labels  \\\n",
       "0  Image copyright Getty Images\\nOn Sunday mornin...  __label__Real   \n",
       "1  LONDON (Reuters) - “Last Flag Flying”, a comed...  __label__Real   \n",
       "2  The feud broke into public view last week when...  __label__Real   \n",
       "3  MEXICO CITY (Reuters) - Egypt’s Cheiron Holdin...  __label__Real   \n",
       "4  Country singer Jason Aldean, who was performin...  __label__Real   \n",
       "\n",
       "                                         Labels_Body  \n",
       "0  __label__real image copyright getty images\\non...  \n",
       "1  __label__real london reuters last flag flying ...  \n",
       "2  __label__real the feud broke into public view ...  \n",
       "3  __label__real mexico city reuters egypts cheir...  \n",
       "4  __label__real country singer jason aldean who ...  "
      ]
     },
     "execution_count": 15,
     "metadata": {},
     "output_type": "execute_result"
    }
   ],
   "source": [
    "data.head(5)"
   ]
  },
  {
   "cell_type": "code",
   "execution_count": 16,
   "id": "e2dd790f",
   "metadata": {},
   "outputs": [],
   "source": [
    "from sklearn.model_selection import train_test_split\n",
    "\n",
    "train, test = train_test_split(data, test_size=0.2)\n"
   ]
  },
  {
   "cell_type": "code",
   "execution_count": 17,
   "id": "6b46f258",
   "metadata": {},
   "outputs": [
    {
     "data": {
      "text/plain": [
       "((3190, 3), (798, 3))"
      ]
     },
     "execution_count": 17,
     "metadata": {},
     "output_type": "execute_result"
    }
   ],
   "source": [
    "train.shape ,test.shape"
   ]
  },
  {
   "cell_type": "code",
   "execution_count": 18,
   "id": "d6949a6a",
   "metadata": {},
   "outputs": [],
   "source": [
    "train.to_csv(\"News.train\", columns=[\"Labels_Body\"],index= False , header = False)\n",
    "test.to_csv(\"News.test\", columns=[\"Labels_Body\"],index= False , header = False)"
   ]
  },
  {
   "cell_type": "code",
   "execution_count": 19,
   "id": "89b7641e",
   "metadata": {},
   "outputs": [],
   "source": [
    "import fasttext"
   ]
  },
  {
   "cell_type": "code",
   "execution_count": 20,
   "id": "6f9298b2",
   "metadata": {},
   "outputs": [
    {
     "data": {
      "text/plain": [
       "(159, 0.9308176100628931, 0.9308176100628931)"
      ]
     },
     "execution_count": 20,
     "metadata": {},
     "output_type": "execute_result"
    }
   ],
   "source": [
    "model = fasttext.train_supervised(input=\"News.train\")\n",
    "model.test(\"News.test\")"
   ]
  },
  {
   "cell_type": "code",
   "execution_count": 51,
   "id": "bbcf67c8",
   "metadata": {},
   "outputs": [
    {
     "name": "stdout",
     "output_type": "stream",
     "text": [
      "waiting for news: in October 4 2017, The Reverse Bank of india (RBI) Governer Urjit patel attended the news conference in Mumbai\n"
     ]
    },
    {
     "data": {
      "text/plain": [
       "(('__label__real',), array([0.68798023]))"
      ]
     },
     "execution_count": 51,
     "metadata": {},
     "output_type": "execute_result"
    }
   ],
   "source": [
    "news = input(\"waiting for news: \")\n",
    "model.predict(news)"
   ]
  },
  {
   "cell_type": "code",
   "execution_count": null,
   "id": "785bcc10",
   "metadata": {},
   "outputs": [],
   "source": []
  }
 ],
 "metadata": {
  "kernelspec": {
   "display_name": "Python 3 (ipykernel)",
   "language": "python",
   "name": "python3"
  },
  "language_info": {
   "codemirror_mode": {
    "name": "ipython",
    "version": 3
   },
   "file_extension": ".py",
   "mimetype": "text/x-python",
   "name": "python",
   "nbconvert_exporter": "python",
   "pygments_lexer": "ipython3",
   "version": "3.8.17"
  }
 },
 "nbformat": 4,
 "nbformat_minor": 5
}
